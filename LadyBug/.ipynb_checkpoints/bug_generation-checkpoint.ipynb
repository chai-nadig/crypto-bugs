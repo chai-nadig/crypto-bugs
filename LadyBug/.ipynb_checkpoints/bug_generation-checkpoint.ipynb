{
 "cells": [
  {
   "cell_type": "code",
   "execution_count": 1,
   "metadata": {},
   "outputs": [
    {
     "ename": "ImportError",
     "evalue": "No module named PIL",
     "output_type": "error",
     "traceback": [
      "\u001b[0;31m---------------------------------------------------------------------------\u001b[0m",
      "\u001b[0;31mImportError\u001b[0m                               Traceback (most recent call last)",
      "\u001b[0;32m<ipython-input-1-d70d8d10573e>\u001b[0m in \u001b[0;36m<module>\u001b[0;34m()\u001b[0m\n\u001b[0;32m----> 1\u001b[0;31m \u001b[0;32mfrom\u001b[0m \u001b[0mPIL\u001b[0m \u001b[0;32mimport\u001b[0m \u001b[0mImage\u001b[0m\u001b[0;34m,\u001b[0m \u001b[0mImageOps\u001b[0m\u001b[0;34m\u001b[0m\u001b[0m\n\u001b[0m\u001b[1;32m      2\u001b[0m \u001b[0;32mfrom\u001b[0m \u001b[0mIPython\u001b[0m\u001b[0;34m.\u001b[0m\u001b[0mdisplay\u001b[0m \u001b[0;32mimport\u001b[0m \u001b[0mdisplay\u001b[0m\u001b[0;34m\u001b[0m\u001b[0m\n\u001b[1;32m      3\u001b[0m \u001b[0;32mimport\u001b[0m \u001b[0mrandom\u001b[0m\u001b[0;34m\u001b[0m\u001b[0m\n\u001b[1;32m      4\u001b[0m \u001b[0;32mimport\u001b[0m \u001b[0mjson\u001b[0m\u001b[0;34m\u001b[0m\u001b[0m\n",
      "\u001b[0;31mImportError\u001b[0m: No module named PIL"
     ]
    }
   ],
   "source": [
    "from PIL import Image, ImageOps\n",
    "from IPython.display import display\n",
    "import random\n",
    "import json\n"
   ]
  },
  {
   "cell_type": "code",
   "execution_count": null,
   "metadata": {},
   "outputs": [],
   "source": [
    "### NECESSARY INFO\n",
    "\n",
    "backgrounds = [\"SpiderWeb\", \"Stick\", \"Leaf\", \"Hearts\"] #4 types\n",
    "backgroundweights = [1, 1, 1, 1]\n",
    "\n",
    "bugs = [\"Big\", \"Small\"] #2 types\n",
    "bugweights = [1, 1]\n",
    "\n",
    "bigBugSpots = [\"BigSpotsA\", \"BigSpotsB\"]\n",
    "bigBugSpotWeights = [1, 1]\n",
    "\n",
    "smallBugSpots = [\"SmallSpotsA\", \"SmallSpotsB\", \"SmallSpotsC\"]\n",
    "smallBugSpotsWeights = [1, 1, 1]\n",
    "\n",
    "bigColors = [\"BigRed\", \"BigBlue\"]\n",
    "bigColorWeights = [1, 1]\n",
    "\n",
    "smallColors = [\"SmallRed\", \"SmallBlue\"]\n",
    "smallColorWeights = [1, 1]\n",
    "\n",
    "\n",
    "backgroundfiles = {\n",
    "    \"SpiderWeb\": \"SpiderWeb.png\",\n",
    "    \"Stick\": \"Stick.png\",\n",
    "    \"Leaf\": \"Leaf.png\",\n",
    "    \"Hearts\": \"Hearts.png\",\n",
    "}\n",
    "\n",
    "bugfiles = {\n",
    "    \"Big\" : \"BigBug.png\",\n",
    "    \"Small\" : \"SmallBug.png\",\n",
    "}\n",
    "\n",
    "spotsfiles = {\n",
    "    \"BigSpotsA\": \"BigSpotsA.png\",\n",
    "    \"BigSpotsB\": \"BigSpotsB.png\",\n",
    "    \"SmallSpotsA\": \"SmallSpotsA.png\",\n",
    "    \"SmallSpotsB\": \"SmallSpotsB.png\",\n",
    "    \"SmallSpotsC\": \"SmallSpotsC.png\",\n",
    "}\n",
    "\n",
    "colorfiles = {\n",
    "    \"BigRed\": \"BigRed.png\",\n",
    "    \"BigBlue\": \"BiBlue.png\",\n",
    "}\n",
    "    \n"
   ]
  },
  {
   "cell_type": "code",
   "execution_count": null,
   "metadata": {},
   "outputs": [],
   "source": [
    "## TRAIT GENERATION\n",
    "\n",
    "TOTAL_BUGS = 40\n",
    "\n",
    "traits = []\n",
    "\n",
    "def createCombo():\n",
    "    \n",
    "    trait = {}\n",
    "\n",
    "    trait[\"Background\"] = random.choices(backgrounds, backgroundweights)[0]\n",
    "    trait[\"Bug\"] = random.choices(bugs, bugweights)[0]\n",
    "    \n",
    "    if trait[\"Bug\"] == \"Big\":\n",
    "        trait[\"Spots\"] = random.choices(bigBugSpots, bigBugSpotWeights)\n",
    "    else:\n",
    "        trait[\"Spots\"] = random.choices(smallBugSpots, smallBugSpotsWeights)\n",
    "    \n",
    "    trait[\"Color\"] = random.choices(colors, colorWeights)\n",
    "\n",
    "    \n",
    "    if trait in traits:\n",
    "        return createCombo()\n",
    "    else:\n",
    "        return trait\n",
    "    \n",
    "for i in range(TOTAL_BUGS):\n",
    "    newtraitcombo = createCombo()\n",
    "    traits.append(newtraitcombo)\n",
    "    \n"
   ]
  },
  {
   "cell_type": "code",
   "execution_count": null,
   "metadata": {},
   "outputs": [],
   "source": [
    "def allUnique(x):\n",
    "    seen = list()\n",
    "    return not any(i in seen or seen.append(i) for i in x)\n",
    "\n",
    "print(allUnique(traits))"
   ]
  },
  {
   "cell_type": "code",
   "execution_count": null,
   "metadata": {},
   "outputs": [],
   "source": [
    "# ADD TOKEN IDS TO JSON\n",
    "\n",
    "i = 0\n",
    "for item in traits:\n",
    "    item[\"tokenId\"] = i\n",
    "    i = i + 1"
   ]
  },
  {
   "cell_type": "code",
   "execution_count": null,
   "metadata": {},
   "outputs": [],
   "source": [
    "\n",
    "print(traits)"
   ]
  },
  {
   "cell_type": "code",
   "execution_count": null,
   "metadata": {},
   "outputs": [],
   "source": [
    "# GET TRAIT COUNTS\n",
    "from collections import defaultdict\n",
    "\n",
    "backgroundcounts = defaultdict(int)    \n",
    "bugcounts = defaultdict(int)\n",
    "spotscounts = defaultdict(int)\n",
    "colorcounts = defaultdict(int)    \n",
    "        \n",
    "for bug in traits:\n",
    "    backgroundcounts[bug[\"Background\"]] += 1\n",
    "    bugcounts[bug[\"Bug\"]] += 1\n",
    "    spotscounts[bug[\"Spots\"]] += 1\n",
    "    colorcounts[bug[\"Color\"]] += 1\n",
    "    \n",
    "print(\"background:\", backgroundcounts)\n",
    "print(\"bugs:\", bugcounts)\n",
    "print(\"spots:\", spotscounts)\n",
    "print(\"colors:\", colorcounts)\n"
   ]
  },
  {
   "cell_type": "code",
   "execution_count": null,
   "metadata": {},
   "outputs": [],
   "source": [
    "# WRITE METADATA TO JSON FILE\n",
    "\n",
    "with open('traits2.json', 'w') as outfile:\n",
    "    json.dump(traits, outfile, indent=4)"
   ]
  },
  {
   "cell_type": "code",
   "execution_count": null,
   "metadata": {},
   "outputs": [],
   "source": [
    "backgroundfiles"
   ]
  },
  {
   "cell_type": "code",
   "execution_count": null,
   "metadata": {},
   "outputs": [],
   "source": [
    "#### IMAGE GENERATION\n",
    "    \n",
    "for item in traits:\n",
    "\n",
    "    im1 = Image.open(f'./Backgrounds/{backgroundfiles[item[\"Background\"]]}').convert('RGBA')\n",
    "    im2 = Image.open(f'./Bugs/{bugfiles[item[\"Bug\"]]}').convert('RGBA')\n",
    "    im3 = Image.open(f'./Spots/{spotsfiles[item[\"Spots\"]]}').convert('RGBA')\n",
    "    im4 = Image.open(f'./Colors/{colorfiles[item[\"Color\"]]}').convert('RGBA')\n",
    "\n",
    "\n",
    "    #Create each composite\n",
    "    com1 = Image.alpha_composite(im1, im2)\n",
    "    com2 = Image.alpha_composite(com1, im3)\n",
    "    com3 = Image.alpha_composite(com2, im4)\n",
    "\n",
    "    #Convert to RGB\n",
    "    rgb_im = com3.convert('RGB')\n",
    "#     display(rgb_im.resize((400,400), Image.NEAREST))\n",
    "\n",
    "    file_name = str(item[\"tokenId\"]) + \".jpg\"\n",
    "    rgb_im.save(\"./output/\" + file_name)\n",
    "    print(f'{str(item[\"tokenId\"])} done')\n",
    "    \n",
    "    "
   ]
  },
  {
   "cell_type": "code",
   "execution_count": null,
   "metadata": {},
   "outputs": [],
   "source": [
    "traits"
   ]
  },
  {
   "cell_type": "code",
   "execution_count": null,
   "metadata": {},
   "outputs": [],
   "source": [
    "with open('traitsfinal.json', 'w') as outfile:\n",
    "    json.dump(traits, outfile, indent=4)"
   ]
  }
 ],
 "metadata": {
  "kernelspec": {
   "display_name": "Python 2",
   "language": "python",
   "name": "python2"
  },
  "language_info": {
   "codemirror_mode": {
    "name": "ipython",
    "version": 2
   },
   "file_extension": ".py",
   "mimetype": "text/x-python",
   "name": "python",
   "nbconvert_exporter": "python",
   "pygments_lexer": "ipython2",
   "version": "2.7.16"
  }
 },
 "nbformat": 4,
 "nbformat_minor": 4
}
